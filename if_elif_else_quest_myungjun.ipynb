{
  "nbformat": 4,
  "nbformat_minor": 0,
  "metadata": {
    "colab": {
      "provenance": [],
      "authorship_tag": "ABX9TyPLUcDog6iZSL7jikDrqIDF",
      "include_colab_link": true
    },
    "kernelspec": {
      "name": "python3",
      "display_name": "Python 3"
    },
    "language_info": {
      "name": "python"
    }
  },
  "cells": [
    {
      "cell_type": "markdown",
      "metadata": {
        "id": "view-in-github",
        "colab_type": "text"
      },
      "source": [
        "<a href=\"https://colab.research.google.com/github/sweetmjkim/study_quest/blob/main/if_elif_else_quest_myungjun.ipynb\" target=\"_parent\"><img src=\"https://colab.research.google.com/assets/colab-badge.svg\" alt=\"Open In Colab\"/></a>"
      ]
    },
    {
      "cell_type": "code",
      "execution_count": 11,
      "metadata": {
        "colab": {
          "base_uri": "https://localhost:8080/"
        },
        "id": "HKR97ni2u9c_",
        "outputId": "40242449-a891-49ba-c1eb-85582ba542e1"
      },
      "outputs": [
        {
          "output_type": "stream",
          "name": "stdout",
          "text": [
            "F\n",
            "program End!\n"
          ]
        }
      ],
      "source": [
        "# quest\n",
        "scores = 55\n",
        "if (scores >= 90) :\n",
        "  pass\n",
        "  print(\"A\")\n",
        "elif (scores >= 80) :\n",
        "  pass\n",
        "  print(\"B\")\n",
        "elif (scores >= 70) :\n",
        "  pass\n",
        "  print(\"C\")\n",
        "elif (scores < 60) :\n",
        "  pass\n",
        "  print(\"F\")\n",
        "else :\n",
        "  pass\n",
        "\n",
        "print(\"program End!\")"
      ]
    }
  ]
}