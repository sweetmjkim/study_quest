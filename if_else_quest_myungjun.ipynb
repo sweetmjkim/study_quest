{
  "nbformat": 4,
  "nbformat_minor": 0,
  "metadata": {
    "colab": {
      "provenance": [],
      "authorship_tag": "ABX9TyNIiZKJmV5qMLQzujh09J/v",
      "include_colab_link": true
    },
    "kernelspec": {
      "name": "python3",
      "display_name": "Python 3"
    },
    "language_info": {
      "name": "python"
    }
  },
  "cells": [
    {
      "cell_type": "markdown",
      "metadata": {
        "id": "view-in-github",
        "colab_type": "text"
      },
      "source": [
        "<a href=\"https://colab.research.google.com/github/sweetmjkim/study_quest/blob/main/if_else_quest_myungjun.ipynb\" target=\"_parent\"><img src=\"https://colab.research.google.com/assets/colab-badge.svg\" alt=\"Open In Colab\"/></a>"
      ]
    },
    {
      "cell_type": "code",
      "execution_count": 5,
      "metadata": {
        "colab": {
          "base_uri": "https://localhost:8080/"
        },
        "id": "m2g1ewzZZoun",
        "outputId": "3adfe9c3-d998-43da-86bc-75965ba21b0f"
      },
      "outputs": [
        {
          "output_type": "stream",
          "name": "stdout",
          "text": [
            "오른쪽\n",
            "progrem End!\n"
          ]
        }
      ],
      "source": [
        "# Quest\n",
        "# if_else_quest_[].ipynb\n",
        "# 왼쪽, 오른쪽 갈림길을 if문으로 작성\n",
        "# code.org 이용해 생각정리\n",
        "# python code 작성\n",
        "way = 0 #right & left\n",
        "if (way >= 0) :\n",
        "  pass\n",
        "  print (\"오른쪽\")\n",
        "else :\n",
        "  print (\"왼쪽\")\n",
        "\n",
        "print(\"progrem End!\")"
      ]
    }
  ]
}